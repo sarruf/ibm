{
 "cells": [
  {
   "cell_type": "markdown",
   "id": "295f5968-105a-4f20-a609-00f797af1ff4",
   "metadata": {},
   "source": [
    "## Data Science Tools and Ecosystem"
   ]
  },
  {
   "cell_type": "markdown",
   "id": "b2c4b6da-911e-4741-8ec0-c52863455cf4",
   "metadata": {},
   "source": [
    "In this notebook, Data Science Tools and Ecosystem are summarized."
   ]
  },
  {
   "cell_type": "markdown",
   "id": "6079cdbb-f566-4828-afc9-7a357b7b72b5",
   "metadata": {},
   "source": [
    "**Objectives:**\n",
    "- List popular languages for Data Science\n",
    "- List commonly used libraries for Data Science\n",
    "- List popular tools for Data Science\n",
    "- Create a Jupyter Notebook\n",
    "- Understand the basics of Python and R"
   ]
  },
  {
   "cell_type": "markdown",
   "id": "f1bcc799-2af0-4819-83a8-13042039c599",
   "metadata": {
    "tags": []
   },
   "source": [
    "Some of the popular languages that Data Scientists use are:\n",
    "1. Python\n",
    "2. R\n",
    "3. Julia"
   ]
  },
  {
   "cell_type": "markdown",
   "id": "337b8c56-8336-4b86-b39e-973a0c1fd999",
   "metadata": {},
   "source": [
    "Some of the commonly used libraries used by Data Scientists include:\n",
    "1. scikit-learn\n",
    "2. seaborn\n",
    "3. matplotlib"
   ]
  },
  {
   "cell_type": "markdown",
   "id": "38abb049-5278-4868-95e0-2dae73666d9c",
   "metadata": {
    "tags": []
   },
   "source": [
    "| Data Science Tools |\n",
    "| ------------------ |\n",
    "| VS Code            |\n",
    "| Jupyter Notebook   |\n",
    "| RStudio            |"
   ]
  },
  {
   "cell_type": "markdown",
   "id": "9d5c6f42-17af-4c89-95b5-06269f20d7fe",
   "metadata": {},
   "source": [
    "### Below are a few examples of evaluating arithmetic expressions in Python"
   ]
  },
  {
   "cell_type": "code",
   "execution_count": 3,
   "id": "51d58a07-09c8-450d-bc8e-41ffc5b4f4e3",
   "metadata": {
    "tags": []
   },
   "outputs": [
    {
     "data": {
      "text/plain": [
       "17"
      ]
     },
     "execution_count": 3,
     "metadata": {},
     "output_type": "execute_result"
    }
   ],
   "source": [
    "# This a simple arithmetic expression to mutiply then add integers\n",
    "(3*4)+5"
   ]
  },
  {
   "cell_type": "code",
   "execution_count": 4,
   "id": "ca30ed83-b8df-4d0f-9b55-1c26f8ffcd18",
   "metadata": {
    "tags": []
   },
   "outputs": [
    {
     "data": {
      "text/plain": [
       "3.3333333333333335"
      ]
     },
     "execution_count": 4,
     "metadata": {},
     "output_type": "execute_result"
    }
   ],
   "source": [
    "# This will convert 200 minutes to hours by dividing by 60\n",
    "200 / 60"
   ]
  },
  {
   "cell_type": "markdown",
   "id": "569678ea-c494-4d10-9a54-3aa63167c72c",
   "metadata": {
    "tags": []
   },
   "source": [
    "## Author:\n",
    "Eduardo"
   ]
  }
 ],
 "metadata": {
  "kernelspec": {
   "display_name": "Python",
   "language": "python",
   "name": "conda-env-python-py"
  },
  "language_info": {
   "codemirror_mode": {
    "name": "ipython",
    "version": 3
   },
   "file_extension": ".py",
   "mimetype": "text/x-python",
   "name": "python",
   "nbconvert_exporter": "python",
   "pygments_lexer": "ipython3",
   "version": "3.7.12"
  }
 },
 "nbformat": 4,
 "nbformat_minor": 5
}
